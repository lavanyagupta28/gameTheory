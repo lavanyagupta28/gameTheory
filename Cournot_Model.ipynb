{
  "cells": [
    {
      "cell_type": "markdown",
      "metadata": {
        "id": "Xj2RnChZgW9J"
      },
      "source": [
        "# **Story**\n",
        "In a rapidly growing city, five major firms are competing to meet the increasing demand for clean energy by producing and installing solar panels. The city government has incentivized solar energy, but there is a limit to how many solar panels can be installed due to space constraints. Each firm must decide how many solar panels to produce and install each year, knowing that the total number of panels produced by all firms will affect the market price.\n",
        "\n",
        "\n",
        "---\n",
        "\n",
        "# **The Players:**\n",
        "* Firm 1: Green Energy Solutions\n",
        "*  Firm 2: SolarTech Innovations\n",
        "*  Firm 3: SunPower Industries\n",
        "*  Firm 4: EcoSolar Corp\n",
        "*  Firm 5: Clean Energy Enterprises\n",
        "\n",
        "\n",
        "\n",
        "---\n",
        "\n",
        "\n",
        "# **The Market Dynamics:**\n",
        "* The demand for solar panels in the city is high, but the price of solar energy depends on the total number of panels installed by all five firms.\n",
        "* The more panels installed, the lower the market price, as the city can only absorb a certain amount of solar energy efficiently.\n",
        "* Each firm wants to produce and install enough panels to maximize its profits, but overproduction by all firms will drive the price down and reduce everyone’s profits.\n",
        "\n",
        "\n",
        "\n",
        "---\n",
        "\n",
        "\n",
        "\n",
        "#**The Decision**\n",
        "\n",
        "\n",
        "Each year, the firms must decide how many solar panels to produce and install. Each firm's goal is to maximize its profit, which depends on two factors:\n",
        "\n",
        "\n",
        "1.   The market price of solar energy, which decreases as the total number of installed panels increases.\n",
        "2.   The cost of producing solar panels, which remains fixed for each firm.\n",
        "\n",
        "\n",
        "\n",
        "---\n",
        "\n",
        "\n",
        "#**The Game**\n",
        "\n",
        "The five firms do not communicate with each other directly, but each one tries to predict how many panels the other firms will produce. The firms understand that their profits depend on the total number of panels produced by all five companies, and they must adjust their production levels accordingly.\n",
        "\n",
        "\n",
        "\n",
        "\n",
        "**Rules**\n",
        "\n",
        "The price of solar energy is determined by the total number of panels installed in the city:\n",
        "\n",
        "𝑃\n",
        "=\n",
        "𝑎\n",
        "−\n",
        "𝑏\n",
        "×\n",
        "𝑄\n",
        "\n",
        "P=a−b×Q\n",
        "\n",
        "where:\n",
        "\n",
        "\n",
        "P is the price of solar energy.\n",
        "\n",
        "Q is the total number of panels installed by all five firms.\n",
        "\n",
        "a is the maximum price that can be charged if no panels are installed.\n",
        "\n",
        "b is a constant that represents how much the price drops as more panels are installed.\n",
        "Each firm's profit is calculated as:\n",
        "\n",
        "Profit\n",
        "𝑖\n",
        "=\n",
        "(\n",
        "𝑃\n",
        "×\n",
        "𝑞\n",
        "𝑖\n",
        ")\n",
        "−\n",
        "(\n",
        "𝑐\n",
        "×\n",
        "𝑞\n",
        "𝑖\n",
        ")\n",
        "\n",
        "Profit\n",
        "i\n",
        "​\n",
        " =(P×q\n",
        "i\n",
        "​\n",
        " )−(c×q\n",
        "i\n",
        "\n",
        "where:\n",
        "\n",
        "qi is the number of panels installed by firm i.\n",
        "\n",
        "\n",
        "---\n",
        "\n",
        "# **Tension and Strategy:**\n",
        "* Too much production: If all firms produce large quantities of panels, the    market will be flooded with solar energy, causing the price to drop drastically. While they can install more panels, the lower price reduces the profit margins.\n",
        "* Too little production: If a firm produces too few panels, it misses out on potential sales and market share, leaving the other firms to dominate the market.\n",
        "\n",
        "Each year, the firms adjust their production quantities based on what they observe from the previous year's market prices and total panel installations.\n",
        "\n",
        "\n",
        "---\n",
        "\n",
        "# **Conclusion**\n",
        "After several years of competition, the firms have reached a stable production level, where they have found a balance between producing enough panels to meet demand and avoiding overproduction that drives down prices. They have reached a Cournot-Nash equilibrium, where no firm can increase its profit by unilaterally changing its production level.\n",
        "\n",
        "This equilibrium shows how competition in a market with quantity-based strategies can stabilize over time, even when each firm is focused on maximizing its own profit.\n"
      ]
    },
    {
      "cell_type": "code",
      "execution_count": 52,
      "metadata": {
        "id": "cYoqANjnVAVD"
      },
      "outputs": [],
      "source": [
        "import random\n",
        "import numpy as np\n",
        "import pandas as pd\n",
        "import matplotlib.pyplot as plt\n"
      ]
    },
    {
      "cell_type": "code",
      "execution_count": 53,
      "metadata": {
        "id": "97rDEKuqVR3p"
      },
      "outputs": [],
      "source": [
        "#predefined constants\n",
        "a = 500\n",
        "b = 2\n",
        "c = 10\n",
        "num_firms = 5\n",
        "num_rounds = 100"
      ]
    },
    {
      "cell_type": "code",
      "execution_count": 54,
      "metadata": {
        "id": "MMyBlpJLYNZF"
      },
      "outputs": [],
      "source": [
        "# Initialize DataFrame to store results\n",
        "l1=[]\n",
        "for i in range(num_firms):\n",
        "  l1.append(f'Firm {i+1} Quantity')\n",
        "\n",
        "l2=[]\n",
        "for i in range(num_firms):\n",
        "  l2.append(f'Firm {i+1} Profit')\n",
        "\n",
        "\n",
        "columns = ['Round', 'Total Quantity', 'Price']\n",
        "columns=columns+l1+l2\n",
        "results = pd.DataFrame(columns=columns)"
      ]
    },
    {
      "cell_type": "code",
      "execution_count": 55,
      "metadata": {
        "id": "X7vyWyYiZw2u"
      },
      "outputs": [],
      "source": [
        "def best_response(firm_index, quantities):\n",
        "    \"Calculate the best response quantity for a given firm.\"\n",
        "    total_quantity_other_firms = sum(quantities) - quantities[firm_index]\n",
        "    return (a - c - b * total_quantity_other_firms) / (2 * b)\n"
      ]
    },
    {
      "cell_type": "code",
      "execution_count": 56,
      "metadata": {
        "id": "-VQdMaLgbEyk"
      },
      "outputs": [],
      "source": [
        "def is_nash_equilibrium(quantities):\n",
        "    \"Check if the current quantities are a Nash equilibrium.\"\n",
        "    for i in range(num_firms):\n",
        "        br = best_response(i, quantities)\n",
        "        if not np.isclose(br, quantities[i], atol=5.0):  # Check if it's close enough to the best response\n",
        "            return False\n",
        "    return True\n",
        "\n"
      ]
    },
    {
      "cell_type": "code",
      "execution_count": 57,
      "metadata": {
        "id": "wXvd6hVLbUyW"
      },
      "outputs": [],
      "source": [
        "# List to store rounds with Nash equilibrium\n",
        "nash_equilibrium_rounds = []\n"
      ]
    },
    {
      "cell_type": "code",
      "execution_count": 58,
      "metadata": {
        "id": "37EWnkEZcIBZ"
      },
      "outputs": [],
      "source": [
        "# Simulate the game for 100 rounds\n",
        "for round_num in range(1, num_rounds + 1):\n",
        "    # Each firm selects a random quantity (between 1 and 50 panels)\n",
        "    quantities = []\n",
        "    for i in range(num_firms):\n",
        "      x=random.uniform(1, 50)\n",
        "      quantities.append(x)\n",
        "\n",
        "\n",
        "    # Calculate total quantity and price\n",
        "    total_quantity = sum(quantities)\n",
        "    price = a - b * total_quantity\n",
        "\n",
        "    profits = []\n",
        "    for q in quantities:\n",
        "      profit = price * q - c * q\n",
        "      profits.append(profit)\n",
        "\n",
        "    # Check if the current round is a Nash equilibrium\n",
        "    if is_nash_equilibrium(quantities):\n",
        "        nash_equilibrium_rounds.append((round_num, quantities, total_quantity, price, profits))\n",
        "\n",
        "    # Append data to DataFrame\n",
        "    round_data = [round_num] + quantities + [total_quantity, price] + profits\n",
        "    results.loc[len(results)] = round_data\n"
      ]
    },
    {
      "cell_type": "code",
      "execution_count": 59,
      "metadata": {
        "colab": {
          "base_uri": "https://localhost:8080/"
        },
        "id": "-RnDH3lccR-t",
        "outputId": "25232ba5-da10-4d83-c663-19104ad929ac"
      },
      "outputs": [
        {
          "name": "stdout",
          "output_type": "stream",
          "text": [
            "   Round  Total Quantity      Price  Firm 1 Quantity  Firm 2 Quantity  \\\n",
            "0    1.0       27.062859  22.353208        23.114332        13.021690   \n",
            "1    2.0        7.470014  42.889986         9.822131        39.763076   \n",
            "2    3.0       46.448952  31.289058        47.767119        32.817800   \n",
            "3    4.0       25.801805  48.365993        43.083147        27.130775   \n",
            "4    5.0        3.209489  46.198157         6.819778        20.272380   \n",
            "\n",
            "   Firm 3 Quantity  Firm 4 Quantity  Firm 5 Quantity  Firm 1 Profit  \\\n",
            "0        16.445690       101.997779       296.004442    7740.097762   \n",
            "1        22.755933       122.701139       254.597722    1827.148289   \n",
            "2        13.432646       171.755575       156.488851    6804.253642   \n",
            "3        30.083648       174.465369       151.069262    3639.841647   \n",
            "4        10.859995        87.359799       325.280401    1011.889119   \n",
            "\n",
            "   Firm 2 Profit  Firm 3 Profit  Firm 4 Profit  Firm 5 Profit  \n",
            "0    6393.116816    6610.801716    3724.261144    4703.540437  \n",
            "1   10490.792810    2402.470850    9725.957833    5566.049304  \n",
            "2    4583.498125    6997.350330    4807.441761    1967.732890  \n",
            "3    6822.954988    6077.707836    3827.318390    4243.878030  \n",
            "4   14565.373495    2150.142227    6391.484104    3423.943657  \n"
          ]
        }
      ],
      "source": [
        "# Display first few rows of the results\n",
        "print(results.head())\n"
      ]
    },
    {
      "cell_type": "code",
      "execution_count": 60,
      "metadata": {
        "id": "sHCg2qKEdOHG"
      },
      "outputs": [],
      "source": [
        "# Save results to CSV\n",
        "results.to_csv('cournot_solar_panel_results.csv', index=False)\n"
      ]
    },
    {
      "cell_type": "code",
      "execution_count": 61,
      "metadata": {
        "colab": {
          "base_uri": "https://localhost:8080/"
        },
        "id": "8AWMoe0tddNK",
        "outputId": "8619570d-295a-4c79-f224-28c6f8e103af"
      },
      "outputs": [
        {
          "name": "stdout",
          "output_type": "stream",
          "text": [
            "\n",
            "Rounds where Nash Equilibrium is achieved:\n",
            "Round 65: Quantities: [46.59151490726951, 36.355026959442384, 48.420253786861345, 40.49146490772161, 33.14091457843965], Total Quantity: 204.9991751397345, Price: 90.00164972053102, Profits: [3727.3980555602748, 2908.462132389772, 3873.7001828356965, 3239.383992218718, 2651.327839522369]\n"
          ]
        }
      ],
      "source": [
        "# Print Nash Equilibrium rounds\n",
        "print(\"\\nRounds where Nash Equilibrium is achieved:\")\n",
        "for round_info in nash_equilibrium_rounds:\n",
        "    round_num, quantities, total_quantity, price, profits = round_info\n",
        "    print(f\"Round {round_num}: Quantities: {quantities}, Total Quantity: {total_quantity}, Price: {price}, Profits: {profits}\")\n"
      ]
    }
  ],
  "metadata": {
    "colab": {
      "provenance": []
    },
    "kernelspec": {
      "display_name": "Python 3",
      "name": "python3"
    },
    "language_info": {
      "codemirror_mode": {
        "name": "ipython",
        "version": 3
      },
      "file_extension": ".py",
      "mimetype": "text/x-python",
      "name": "python",
      "nbconvert_exporter": "python",
      "pygments_lexer": "ipython3",
      "version": "3.12.3"
    }
  },
  "nbformat": 4,
  "nbformat_minor": 0
}
